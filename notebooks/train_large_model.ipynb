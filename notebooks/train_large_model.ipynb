{
 "cells": [
  {
   "cell_type": "markdown",
   "id": "cross-chicago",
   "metadata": {},
   "source": [
    "# Training the \"large\" model\n",
    "\n",
    "The code above will load training data and train the so-called \"small\" model.\n",
    "\n",
    "Out of a prescribed number (given by the parameter `seq_len`) of last orders of every user, only the order date and the bill amount is taken into the account by this model. The model ignores every other features of orders."
   ]
  },
  {
   "cell_type": "code",
   "execution_count": 1,
   "id": "excess-license",
   "metadata": {},
   "outputs": [],
   "source": [
    "import tensorflow as tf\n",
    "from pndapetzim.data import load_datasets, LABEL_FILE_NAME, ORDER_FILE_NAME\n",
    "from pndapetzim.models import CategoricalFeatureDescriptor\n",
    "\n",
    "seq_len = 20\n",
    "returning_weight = 6.0\n",
    "\n",
    "train, test, encodings = load_datasets(\n",
    "    order_path='../data/' + ORDER_FILE_NAME,\n",
    "    label_path='../data/' + LABEL_FILE_NAME,\n",
    "    seq_len=seq_len,\n",
    "    train_ratio=100,\n",
    "    returning_weight=returning_weight,\n",
    ")\n",
    "\n",
    "cat_features = {\n",
    "    'restaurant_id': CategoricalFeatureDescriptor(\n",
    "        vocab_size=encodings['restaurant_id'].vocab_size, embedding_size=15\n",
    "    ),\n",
    "    'city_id': CategoricalFeatureDescriptor(\n",
    "        vocab_size=encodings['city_id'].vocab_size, embedding_size=12\n",
    "    ),\n",
    "    'payment_id': CategoricalFeatureDescriptor(\n",
    "        vocab_size=encodings['payment_id'].vocab_size, embedding_size=3\n",
    "    ),\n",
    "    'platform_id': CategoricalFeatureDescriptor(\n",
    "        vocab_size=encodings['platform_id'].vocab_size, embedding_size=4\n",
    "    ),\n",
    "    'transmission_id': CategoricalFeatureDescriptor(\n",
    "        vocab_size=encodings['transmission_id'].vocab_size, embedding_size=4\n",
    "    ),\n",
    "}"
   ]
  },
  {
   "cell_type": "code",
   "execution_count": 2,
   "id": "third-motel",
   "metadata": {},
   "outputs": [],
   "source": [
    "from tensorflow.keras.losses import BinaryCrossentropy\n",
    "from tensorflow.keras.metrics import AUC, Recall\n",
    "from tensorflow.keras.optimizers import Adam\n",
    "\n",
    "from pndapetzim.models import build_large_model, CategoricalFeatureDescriptor\n",
    "\n",
    "lossm = BinaryCrossentropy()\n",
    "optimiser = Adam(learning_rate=0.01)\n",
    "\n",
    "model = build_large_model(seq_len, cat_features)\n",
    "aucm = AUC()\n",
    "recallm = Recall()\n",
    "metrics = ['accuracy', aucm, recallm]\n",
    "model.compile(loss=lossm, optimizer=optimiser, metrics=metrics)\n",
    "batch_size = 128"
   ]
  },
  {
   "cell_type": "code",
   "execution_count": 3,
   "id": "agricultural-fireplace",
   "metadata": {},
   "outputs": [
    {
     "name": "stdout",
     "output_type": "stream",
     "text": [
      "1899/1899 [==============================] - 674s 353ms/step - loss: 1.1207 - accuracy: 0.6341 - auc: 0.7866 - recall: 0.8014\n"
     ]
    },
    {
     "data": {
      "text/plain": [
       "<tensorflow.python.keras.callbacks.History at 0x14be3fed0>"
      ]
     },
     "execution_count": 3,
     "metadata": {},
     "output_type": "execute_result"
    }
   ],
   "source": [
    "model.fit(train.batch(batch_size).prefetch(10), epochs=1)"
   ]
  },
  {
   "cell_type": "code",
   "execution_count": 4,
   "id": "popular-award",
   "metadata": {},
   "outputs": [
    {
     "name": "stdout",
     "output_type": "stream",
     "text": [
      "19/19 [==============================] - 4s 142ms/step - loss: 1.0416 - accuracy: 0.6955 - auc: 0.8132 - recall: 0.7806\n",
      "loss: 1.0416260957717896, accuracy: 0.6954732537269592, AUC: 0.8132485151290894, recall: 0.7805825471878052\n"
     ]
    }
   ],
   "source": [
    "loss, accuracy, auc, recall = model.evaluate(test.batch(batch_size))\n",
    "print(f'loss: {loss}, accuracy: {accuracy}, AUC: {auc}, recall: {recallm.result()}')"
   ]
  },
  {
   "cell_type": "code",
   "execution_count": null,
   "id": "cheap-venezuela",
   "metadata": {},
   "outputs": [],
   "source": [
    "cat_features"
   ]
  }
 ],
 "metadata": {
  "kernelspec": {
   "display_name": "Python 3",
   "language": "python",
   "name": "python3"
  },
  "language_info": {
   "codemirror_mode": {
    "name": "ipython",
    "version": 3
   },
   "file_extension": ".py",
   "mimetype": "text/x-python",
   "name": "python",
   "nbconvert_exporter": "python",
   "pygments_lexer": "ipython3",
   "version": "3.7.9"
  }
 },
 "nbformat": 4,
 "nbformat_minor": 5
}
