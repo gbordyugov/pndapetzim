{
 "cells": [
  {
   "cell_type": "markdown",
   "id": "grateful-permit",
   "metadata": {},
   "source": [
    "# Training the \"small\" model\n",
    "\n",
    "The code above will load training data and train the so-called \"small\" model.\n",
    "\n",
    "Out of a prescribed number (given by the parameter `seq_len`) of last orders of every user, only the order date and the bill amount is taken into the account by this model. The model ignores every other features of orders."
   ]
  },
  {
   "cell_type": "code",
   "execution_count": 7,
   "id": "conscious-exposure",
   "metadata": {},
   "outputs": [],
   "source": [
    "from pndapetzim.data import load_datasets, LABEL_FILE_NAME, ORDER_FILE_NAME\n",
    "from pndapetzim.models import CategoricalFeatureDescriptor\n",
    "\n",
    "seq_len = 20\n",
    "returning_weight = 4.0\n",
    "\n",
    "train, test, encodings = load_datasets(\n",
    "    order_path='../data/' + ORDER_FILE_NAME,\n",
    "    label_path='../data/' + LABEL_FILE_NAME,\n",
    "    seq_len=seq_len,\n",
    "    train_ratio=100,\n",
    "    returning_weight=returning_weight,\n",
    ")\n",
    "\n",
    "cat_features = {\n",
    "    'restaurant_id': CategoricalFeatureDescriptor(\n",
    "        vocab_size=encodings['restaurant_id'].vocab_size, embedding_size=15\n",
    "    ),\n",
    "    'city_id': CategoricalFeatureDescriptor(\n",
    "        vocab_size=encodings['city_id'].vocab_size, embedding_size=12\n",
    "    ),\n",
    "    'payment_id': CategoricalFeatureDescriptor(\n",
    "        vocab_size=encodings['payment_id'].vocab_size, embedding_size=3\n",
    "    ),\n",
    "    'platform_id': CategoricalFeatureDescriptor(\n",
    "        vocab_size=encodings['platform_id'].vocab_size, embedding_size=4\n",
    "    ),\n",
    "    'transmission_id': CategoricalFeatureDescriptor(\n",
    "        vocab_size=encodings['transmission_id'].vocab_size, embedding_size=4\n",
    "    ),\n",
    "}"
   ]
  },
  {
   "cell_type": "code",
   "execution_count": 14,
   "id": "agricultural-guest",
   "metadata": {},
   "outputs": [],
   "source": [
    "from tensorflow.keras.losses import BinaryCrossentropy\n",
    "from tensorflow.keras.metrics import AUC, Recall\n",
    "from tensorflow.keras.optimizers import Adam\n",
    "\n",
    "from pndapetzim.models import build_large_model, CategoricalFeatureDescriptor\n",
    "\n",
    "lossm = BinaryCrossentropy()\n",
    "optimiser = Adam(learning_rate=0.01)\n",
    "\n",
    "model = build_large_model(seq_len, cat_features)\n",
    "aucm = AUC()\n",
    "recallm = Recall()\n",
    "metrics = ['accuracy', aucm, recallm]\n",
    "model.compile(loss=lossm, optimizer=optimiser, metrics=metrics)\n",
    "batch_size = 128"
   ]
  },
  {
   "cell_type": "code",
   "execution_count": null,
   "id": "pointed-fields",
   "metadata": {},
   "outputs": [
    {
     "name": "stdout",
     "output_type": "stream",
     "text": [
      "    175/Unknown - 112s 624ms/step - loss: 1.3492 - accuracy: 0.6301 - auc_4: 0.6605 - recall_4: 0.5972"
     ]
    }
   ],
   "source": [
    "model.fit(train.batch(batch_size).prefetch(10), epochs=1)"
   ]
  },
  {
   "cell_type": "code",
   "execution_count": null,
   "id": "cheap-gospel",
   "metadata": {},
   "outputs": [],
   "source": [
    "loss, accuracy, auc, recall = model.evaluate(test.batch(batch_size))\n",
    "print(f'loss: {loss}, accuracy: {accucacy}, AUC: {auc}, recall: {recallm}')"
   ]
  },
  {
   "cell_type": "code",
   "execution_count": 4,
   "id": "stupid-cliff",
   "metadata": {},
   "outputs": [
    {
     "data": {
      "text/plain": [
       "{'restaurant_id': CategoricalFeatureDescriptor(vocab_size=13570, embedding_size=10),\n",
       " 'city_id': CategoricalFeatureDescriptor(vocab_size=3750, embedding_size=3),\n",
       " 'payment_id': CategoricalFeatureDescriptor(vocab_size=6, embedding_size=2),\n",
       " 'platform_id': CategoricalFeatureDescriptor(vocab_size=15, embedding_size=2),\n",
       " 'transmission_id': CategoricalFeatureDescriptor(vocab_size=11, embedding_size=2)}"
      ]
     },
     "execution_count": 4,
     "metadata": {},
     "output_type": "execute_result"
    }
   ],
   "source": [
    "cat_features"
   ]
  },
  {
   "cell_type": "code",
   "execution_count": null,
   "id": "developing-valentine",
   "metadata": {},
   "outputs": [],
   "source": []
  }
 ],
 "metadata": {
  "kernelspec": {
   "display_name": "Python 3",
   "language": "python",
   "name": "python3"
  },
  "language_info": {
   "codemirror_mode": {
    "name": "ipython",
    "version": 3
   },
   "file_extension": ".py",
   "mimetype": "text/x-python",
   "name": "python",
   "nbconvert_exporter": "python",
   "pygments_lexer": "ipython3",
   "version": "3.7.9"
  }
 },
 "nbformat": 4,
 "nbformat_minor": 5
}
