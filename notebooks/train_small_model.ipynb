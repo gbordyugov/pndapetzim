{
 "cells": [
  {
   "cell_type": "markdown",
   "id": "musical-stephen",
   "metadata": {},
   "source": [
    "# Training the \"small\" model\n",
    "\n",
    "The code above will load training data and train the so-called \"small\" model.\n",
    "\n",
    "Out of a prescribed number (given by the parameter `seq_len`) of last orders of every user, only the order date and the bill amount is taken into the account by this model. The model ignores every other features of orders."
   ]
  },
  {
   "cell_type": "code",
   "execution_count": null,
   "id": "innocent-aurora",
   "metadata": {},
   "outputs": [],
   "source": [
    "from pndapetzim.data import load_datasets\n",
    "from pndapetzim.data import ORDER_FILE_NAME\n",
    "from pndapetzim.data import LABEL_FILE_NAME\n",
    "\n",
    "seq_len = 20\n",
    "returning_weight = 4.0\n",
    "\n",
    "train, test = load_datasets(\n",
    "    order_path='../data/' + ORDER_FILE_NAME,\n",
    "    label_path='../data/' + LABEL_FILE_NAME,\n",
    "    seq_len=seq_len,\n",
    "    train_ratio=100,\n",
    "    returning_weight=returning_weight,\n",
    ")\n",
    "train = train.take(128*100)"
   ]
  },
  {
   "cell_type": "code",
   "execution_count": null,
   "id": "impossible-assignment",
   "metadata": {},
   "outputs": [],
   "source": [
    "from tensorflow.keras.losses import BinaryCrossentropy\n",
    "from tensorflow.keras.metrics import BinaryAccuracy\n",
    "from tensorflow.keras.metrics import AUC\n",
    "from tensorflow.keras.metrics import Recall\n",
    "from tensorflow.keras.optimizers import Adam\n",
    "\n",
    "from pndapetzim.models import build_amount_date_model\n",
    "\n",
    "loss = BinaryCrossentropy()\n",
    "optimiser = Adam(learning_rate=0.01)\n",
    "\n",
    "model = build_amount_date_model(seq_len, 5)\n",
    "auc = AUC()\n",
    "recall = Recall()\n",
    "metrics = [BinaryAccuracy(), auc, recall]\n",
    "model.compile(loss=loss, optimizer=optimiser, metrics=metrics)\n",
    "batch_size = 128"
   ]
  },
  {
   "cell_type": "code",
   "execution_count": null,
   "id": "charitable-northeast",
   "metadata": {},
   "outputs": [],
   "source": [
    "model.fit(train.batch(batch_size).prefetch(10), epochs=1)"
   ]
  },
  {
   "cell_type": "code",
   "execution_count": null,
   "id": "juvenile-organic",
   "metadata": {},
   "outputs": [],
   "source": [
    "model.evaluate(test.batch(batch_size))"
   ]
  }
 ],
 "metadata": {
  "kernelspec": {
   "display_name": "Python 3",
   "language": "python",
   "name": "python3"
  },
  "language_info": {
   "codemirror_mode": {
    "name": "ipython",
    "version": 3
   },
   "file_extension": ".py",
   "mimetype": "text/x-python",
   "name": "python",
   "nbconvert_exporter": "python",
   "pygments_lexer": "ipython3",
   "version": "3.7.9"
  }
 },
 "nbformat": 4,
 "nbformat_minor": 5
}
