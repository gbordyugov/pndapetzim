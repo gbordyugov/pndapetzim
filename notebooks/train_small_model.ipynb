{
 "cells": [
  {
   "cell_type": "markdown",
   "id": "homeless-symposium",
   "metadata": {},
   "source": [
    "# Training the \"small\" model\n",
    "\n",
    "The code above will load training data and train the so-called \"small\" model.\n",
    "\n",
    "Out of a prescribed number (given by the parameter `seq_len`) of last orders of every user, only the order date and the bill amount is taken into the account by this model. The model ignores every other features of orders."
   ]
  },
  {
   "cell_type": "code",
   "execution_count": 14,
   "id": "signed-costa",
   "metadata": {},
   "outputs": [],
   "source": [
    "from pndapetzim.data import load_dataset\n",
    "from pndapetzim.data import ORDER_FILE_NAME\n",
    "from pndapetzim.data import LABEL_FILE_NAME\n",
    "\n",
    "seq_len = 20\n",
    "returning_weight = 4.0\n",
    "\n",
    "ds = load_dataset(\n",
    "    '../data/' + ORDER_FILE_NAME,\n",
    "    '../data/' + LABEL_FILE_NAME,\n",
    "    seq_len,\n",
    "    returning_weight,\n",
    ").cache().shuffle(100)"
   ]
  },
  {
   "cell_type": "code",
   "execution_count": 15,
   "id": "greek-liberty",
   "metadata": {},
   "outputs": [],
   "source": [
    "from tensorflow.keras.losses import BinaryCrossentropy\n",
    "from tensorflow.keras.metrics import AUC\n",
    "from tensorflow.keras.metrics import Recall\n",
    "from tensorflow.keras.optimizers import Adam\n",
    "\n",
    "from pndapetzim.models import build_amount_date_model\n",
    "\n",
    "loss = BinaryCrossentropy()\n",
    "optimiser = Adam(learning_rate=0.01)\n",
    "\n",
    "model = build_amount_date_model(seq_len, 10)\n",
    "metrics = ['accuracy', Recall(), AUC()]\n",
    "model.compile(loss=loss, optimizer=optimiser, metrics=metrics)"
   ]
  },
  {
   "cell_type": "code",
   "execution_count": null,
   "id": "satellite-story",
   "metadata": {},
   "outputs": [
    {
     "name": "stdout",
     "output_type": "stream",
     "text": [
      "Epoch 1/5\n",
      "    685/Unknown - 172s 248ms/step - loss: 0.9666 - accuracy: 0.6977 - recall_5: 0.6899 - auc_5: 0.7584"
     ]
    }
   ],
   "source": [
    "batch_size = 128\n",
    "model.fit(ds.batch(batch_size).prefetch(10), epochs=5)"
   ]
  },
  {
   "cell_type": "code",
   "execution_count": null,
   "id": "detected-typing",
   "metadata": {},
   "outputs": [],
   "source": []
  }
 ],
 "metadata": {
  "kernelspec": {
   "display_name": "Python 3",
   "language": "python",
   "name": "python3"
  },
  "language_info": {
   "codemirror_mode": {
    "name": "ipython",
    "version": 3
   },
   "file_extension": ".py",
   "mimetype": "text/x-python",
   "name": "python",
   "nbconvert_exporter": "python",
   "pygments_lexer": "ipython3",
   "version": "3.7.9"
  }
 },
 "nbformat": 4,
 "nbformat_minor": 5
}
