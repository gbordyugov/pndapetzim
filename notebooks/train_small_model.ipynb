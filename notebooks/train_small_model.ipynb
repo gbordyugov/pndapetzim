{
 "cells": [
  {
   "cell_type": "markdown",
   "id": "elder-studio",
   "metadata": {},
   "source": [
    "# Training the small model\n",
    "\n",
    "The code below will load training data and train the so-called \"small\" model. For details, see the main [README.md](https://github.com/gbordyugov/pndapetzim/blob/main/README.md) for the project.\n",
    "\n",
    "The following code sets up some parameters and loads the train/test data."
   ]
  },
  {
   "cell_type": "code",
   "execution_count": 1,
   "id": "anonymous-speech",
   "metadata": {},
   "outputs": [],
   "source": [
    "from pndapetzim.data import load_datasets, LABEL_FILE_NAME, ORDER_FILE_NAME\n",
    "\n",
    "# Length of user history to consider.\n",
    "seq_len = 20\n",
    "\n",
    "# Relative weight of training samples with returning customers, plays the role of oversampling.\n",
    "returning_weight = 5.0\n",
    "\n",
    "# Load train/test data and encodings for the model.\n",
    "train, test, encodings = load_datasets(\n",
    "    order_path='../data/' + ORDER_FILE_NAME,\n",
    "    label_path='../data/' + LABEL_FILE_NAME,\n",
    "    seq_len=seq_len,\n",
    "    train_ratio=100,\n",
    "    returning_weight=returning_weight,\n",
    ")"
   ]
  },
  {
   "cell_type": "markdown",
   "id": "challenging-vacation",
   "metadata": {},
   "source": [
    "The following code builds the model."
   ]
  },
  {
   "cell_type": "code",
   "execution_count": 2,
   "id": "removable-jacksonville",
   "metadata": {},
   "outputs": [],
   "source": [
    "from tensorflow.keras.losses import BinaryCrossentropy\n",
    "from tensorflow.keras.metrics import AUC, Recall\n",
    "from tensorflow.keras.optimizers import Adam\n",
    "\n",
    "from pndapetzim.models import build_small_model\n",
    "\n",
    "lossm = BinaryCrossentropy()\n",
    "optimiser = Adam(learning_rate=0.01)\n",
    "\n",
    "model = build_small_model(seq_len, 5)\n",
    "aucm = AUC()\n",
    "recallm = Recall()\n",
    "metrics = ['accuracy', aucm, recallm]\n",
    "model.compile(loss=lossm, optimizer=optimiser, metrics=metrics)\n",
    "batch_size = 128"
   ]
  },
  {
   "cell_type": "markdown",
   "id": "driving-mandate",
   "metadata": {},
   "source": [
    "Now we can start training (takes a couple of minutes, though). You can safely ignore the warning as the data set contains more features that are needed for the small model."
   ]
  },
  {
   "cell_type": "code",
   "execution_count": 3,
   "id": "extreme-plenty",
   "metadata": {},
   "outputs": [
    {
     "name": "stderr",
     "output_type": "stream",
     "text": [
      "/Users/gri/Library/Caches/pypoetry/virtualenvs/pndapetzim-De_nYv4f-py3.7/lib/python3.7/site-packages/tensorflow/python/keras/engine/functional.py:595: UserWarning: Input dict contained keys ['order_hour_cos', 'order_hour_sin', 'is_failed', 'voucher_amount', 'delivery_fee', 'restaurant_id', 'city_id', 'payment_id', 'platform_id', 'transmission_id'] which did not match any model input. They will be ignored by the model.\n",
      "  [n for n in tensors.keys() if n not in ref_input_names])\n"
     ]
    },
    {
     "name": "stdout",
     "output_type": "stream",
     "text": [
      "1899/1899 [==============================] - 825s 433ms/step - loss: 1.0453 - accuracy: 0.6951 - auc: 0.7739 - recall: 0.7221\n"
     ]
    },
    {
     "data": {
      "text/plain": [
       "<tensorflow.python.keras.callbacks.History at 0x10c3d3dd0>"
      ]
     },
     "execution_count": 3,
     "metadata": {},
     "output_type": "execute_result"
    }
   ],
   "source": [
    "model.fit(train.batch(batch_size).prefetch(10), epochs=1)"
   ]
  },
  {
   "cell_type": "markdown",
   "id": "interior-quantity",
   "metadata": {},
   "source": [
    "And now let us evaluate the model on the test dataset:"
   ]
  },
  {
   "cell_type": "code",
   "execution_count": 4,
   "id": "norwegian-exploration",
   "metadata": {},
   "outputs": [
    {
     "name": "stdout",
     "output_type": "stream",
     "text": [
      "19/19 [==============================] - 3s 143ms/step - loss: 0.9733 - accuracy: 0.6872 - auc: 0.8037 - recall: 0.7670\n",
      "loss: 0.9733473658561707, accuracy: 0.6872428059577942, AUC: 0.8037197589874268, recall: 0.7669903039932251\n"
     ]
    }
   ],
   "source": [
    "loss, accuracy, auc, recall = model.evaluate(test.batch(batch_size))\n",
    "print(f'loss: {loss}, accuracy: {accuracy}, AUC: {auc}, recall: {recallm.result()}')"
   ]
  }
 ],
 "metadata": {
  "kernelspec": {
   "display_name": "Python 3",
   "language": "python",
   "name": "python3"
  },
  "language_info": {
   "codemirror_mode": {
    "name": "ipython",
    "version": 3
   },
   "file_extension": ".py",
   "mimetype": "text/x-python",
   "name": "python",
   "nbconvert_exporter": "python",
   "pygments_lexer": "ipython3",
   "version": "3.7.9"
  }
 },
 "nbformat": 4,
 "nbformat_minor": 5
}
