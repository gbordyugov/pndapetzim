{
 "cells": [
  {
   "cell_type": "code",
   "execution_count": null,
   "id": "protected-group",
   "metadata": {},
   "outputs": [],
   "source": [
    "from pndapetzim.data import encode_df\n",
    "from pndapetzim.data import get_labeled_data\n",
    "from pndapetzim.data import get_dataset_from_df\n",
    "from pndapetzim.data import FROM_DATE\n",
    "from pndapetzim.data import TO_DATE\n",
    "from pndapetzim.data import ORDER_FILE_NAME\n",
    "from pndapetzim.data import LABEL_FILE_NAME\n",
    "\n",
    "df = get_labeled_data(\n",
    "    '../data/' + ORDER_FILE_NAME,\n",
    "    '../data/' + LABEL_FILE_NAME,\n",
    ")\n",
    "df, encodings = encode_df(df)\n",
    "ds = get_dataset_from_df(df, encodings, 10)"
   ]
  },
  {
   "cell_type": "code",
   "execution_count": null,
   "id": "polished-checklist",
   "metadata": {},
   "outputs": [],
   "source": [
    "list(ds.take(15))"
   ]
  },
  {
   "cell_type": "code",
   "execution_count": null,
   "id": "fresh-truck",
   "metadata": {},
   "outputs": [],
   "source": []
  },
  {
   "cell_type": "code",
   "execution_count": null,
   "id": "reflected-short",
   "metadata": {},
   "outputs": [],
   "source": [
    "delta.total_seconds()"
   ]
  },
  {
   "cell_type": "code",
   "execution_count": null,
   "id": "legal-green",
   "metadata": {},
   "outputs": [],
   "source": [
    "df.columns"
   ]
  },
  {
   "cell_type": "code",
   "execution_count": null,
   "id": "korean-sherman",
   "metadata": {},
   "outputs": [],
   "source": []
  }
 ],
 "metadata": {
  "kernelspec": {
   "display_name": "Python 3",
   "language": "python",
   "name": "python3"
  },
  "language_info": {
   "codemirror_mode": {
    "name": "ipython",
    "version": 3
   },
   "file_extension": ".py",
   "mimetype": "text/x-python",
   "name": "python",
   "nbconvert_exporter": "python",
   "pygments_lexer": "ipython3",
   "version": "3.7.9"
  }
 },
 "nbformat": 4,
 "nbformat_minor": 5
}
