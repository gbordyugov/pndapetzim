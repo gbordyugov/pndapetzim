{
 "cells": [
  {
   "cell_type": "markdown",
   "id": "surprised-suggestion",
   "metadata": {},
   "source": [
    "# Some exploratory data analysis\n",
    "\n",
    "Let us first load the order data:"
   ]
  },
  {
   "cell_type": "code",
   "execution_count": 1,
   "id": "universal-display",
   "metadata": {},
   "outputs": [],
   "source": [
    "import matplotlib.pyplot as plt\n",
    "\n",
    "from pndapetzim.data import read_order_table, LABEL_FILE_NAME, ORDER_FILE_NAME\n",
    "\n",
    "orders = read_order_table('../data/' + ORDER_FILE_NAME)"
   ]
  },
  {
   "cell_type": "markdown",
   "id": "dramatic-loading",
   "metadata": {},
   "source": [
    "What does the data look like?"
   ]
  },
  {
   "cell_type": "code",
   "execution_count": 2,
   "id": "legitimate-article",
   "metadata": {},
   "outputs": [
    {
     "data": {
      "text/html": [
       "<div>\n",
       "<style scoped>\n",
       "    .dataframe tbody tr th:only-of-type {\n",
       "        vertical-align: middle;\n",
       "    }\n",
       "\n",
       "    .dataframe tbody tr th {\n",
       "        vertical-align: top;\n",
       "    }\n",
       "\n",
       "    .dataframe thead th {\n",
       "        text-align: right;\n",
       "    }\n",
       "</style>\n",
       "<table border=\"1\" class=\"dataframe\">\n",
       "  <thead>\n",
       "    <tr style=\"text-align: right;\">\n",
       "      <th></th>\n",
       "      <th>index</th>\n",
       "      <th>customer_id</th>\n",
       "      <th>order_date</th>\n",
       "      <th>order_hour</th>\n",
       "      <th>customer_order_rank</th>\n",
       "      <th>is_failed</th>\n",
       "      <th>voucher_amount</th>\n",
       "      <th>delivery_fee</th>\n",
       "      <th>amount_paid</th>\n",
       "      <th>restaurant_id</th>\n",
       "      <th>city_id</th>\n",
       "      <th>payment_id</th>\n",
       "      <th>platform_id</th>\n",
       "      <th>transmission_id</th>\n",
       "      <th>action_mask</th>\n",
       "      <th>order_hour_cos</th>\n",
       "      <th>order_hour_sin</th>\n",
       "    </tr>\n",
       "  </thead>\n",
       "  <tbody>\n",
       "    <tr>\n",
       "      <th>0</th>\n",
       "      <td>0</td>\n",
       "      <td>2548744153</td>\n",
       "      <td>0.152055</td>\n",
       "      <td>19.0</td>\n",
       "      <td>1.0</td>\n",
       "      <td>0</td>\n",
       "      <td>0.0</td>\n",
       "      <td>0.000</td>\n",
       "      <td>11.46960</td>\n",
       "      <td>5803498</td>\n",
       "      <td>20326</td>\n",
       "      <td>1779</td>\n",
       "      <td>30231</td>\n",
       "      <td>4356</td>\n",
       "      <td>1.0</td>\n",
       "      <td>0.258819</td>\n",
       "      <td>-0.965926</td>\n",
       "    </tr>\n",
       "    <tr>\n",
       "      <th>1</th>\n",
       "      <td>1</td>\n",
       "      <td>3804682686</td>\n",
       "      <td>0.457534</td>\n",
       "      <td>20.0</td>\n",
       "      <td>1.0</td>\n",
       "      <td>0</td>\n",
       "      <td>0.0</td>\n",
       "      <td>0.000</td>\n",
       "      <td>9.55800</td>\n",
       "      <td>239303498</td>\n",
       "      <td>76547</td>\n",
       "      <td>1619</td>\n",
       "      <td>30359</td>\n",
       "      <td>4356</td>\n",
       "      <td>1.0</td>\n",
       "      <td>0.500000</td>\n",
       "      <td>-0.866025</td>\n",
       "    </tr>\n",
       "    <tr>\n",
       "      <th>2</th>\n",
       "      <td>2</td>\n",
       "      <td>5162883455</td>\n",
       "      <td>0.997260</td>\n",
       "      <td>19.0</td>\n",
       "      <td>1.0</td>\n",
       "      <td>0</td>\n",
       "      <td>0.0</td>\n",
       "      <td>0.493</td>\n",
       "      <td>5.93658</td>\n",
       "      <td>206463498</td>\n",
       "      <td>33833</td>\n",
       "      <td>1619</td>\n",
       "      <td>30359</td>\n",
       "      <td>4324</td>\n",
       "      <td>1.0</td>\n",
       "      <td>0.258819</td>\n",
       "      <td>-0.965926</td>\n",
       "    </tr>\n",
       "    <tr>\n",
       "      <th>3</th>\n",
       "      <td>3</td>\n",
       "      <td>6482924443</td>\n",
       "      <td>0.968493</td>\n",
       "      <td>17.0</td>\n",
       "      <td>1.0</td>\n",
       "      <td>0</td>\n",
       "      <td>0.0</td>\n",
       "      <td>0.493</td>\n",
       "      <td>9.82350</td>\n",
       "      <td>36613498</td>\n",
       "      <td>99315</td>\n",
       "      <td>1619</td>\n",
       "      <td>30359</td>\n",
       "      <td>4356</td>\n",
       "      <td>1.0</td>\n",
       "      <td>-0.258819</td>\n",
       "      <td>-0.965926</td>\n",
       "    </tr>\n",
       "    <tr>\n",
       "      <th>4</th>\n",
       "      <td>4</td>\n",
       "      <td>6979610790</td>\n",
       "      <td>0.213699</td>\n",
       "      <td>19.0</td>\n",
       "      <td>1.0</td>\n",
       "      <td>0</td>\n",
       "      <td>0.0</td>\n",
       "      <td>0.493</td>\n",
       "      <td>5.15070</td>\n",
       "      <td>225853498</td>\n",
       "      <td>16456</td>\n",
       "      <td>1619</td>\n",
       "      <td>29463</td>\n",
       "      <td>4356</td>\n",
       "      <td>1.0</td>\n",
       "      <td>0.258819</td>\n",
       "      <td>-0.965926</td>\n",
       "    </tr>\n",
       "  </tbody>\n",
       "</table>\n",
       "</div>"
      ],
      "text/plain": [
       "   index  customer_id  order_date  order_hour  customer_order_rank  is_failed  \\\n",
       "0      0   2548744153    0.152055        19.0                  1.0          0   \n",
       "1      1   3804682686    0.457534        20.0                  1.0          0   \n",
       "2      2   5162883455    0.997260        19.0                  1.0          0   \n",
       "3      3   6482924443    0.968493        17.0                  1.0          0   \n",
       "4      4   6979610790    0.213699        19.0                  1.0          0   \n",
       "\n",
       "   voucher_amount  delivery_fee  amount_paid  restaurant_id  city_id  \\\n",
       "0             0.0         0.000     11.46960        5803498    20326   \n",
       "1             0.0         0.000      9.55800      239303498    76547   \n",
       "2             0.0         0.493      5.93658      206463498    33833   \n",
       "3             0.0         0.493      9.82350       36613498    99315   \n",
       "4             0.0         0.493      5.15070      225853498    16456   \n",
       "\n",
       "   payment_id  platform_id  transmission_id  action_mask  order_hour_cos  \\\n",
       "0        1779        30231             4356          1.0        0.258819   \n",
       "1        1619        30359             4356          1.0        0.500000   \n",
       "2        1619        30359             4324          1.0        0.258819   \n",
       "3        1619        30359             4356          1.0       -0.258819   \n",
       "4        1619        29463             4356          1.0        0.258819   \n",
       "\n",
       "   order_hour_sin  \n",
       "0       -0.965926  \n",
       "1       -0.866025  \n",
       "2       -0.965926  \n",
       "3       -0.965926  \n",
       "4       -0.965926  "
      ]
     },
     "execution_count": 2,
     "metadata": {},
     "output_type": "execute_result"
    }
   ],
   "source": [
    "orders.head()"
   ]
  },
  {
   "cell_type": "markdown",
   "id": "average-korea",
   "metadata": {},
   "source": [
    "Are we using optimal data types? I.e. integers for customer ids and floats for timestamps?"
   ]
  },
  {
   "cell_type": "code",
   "execution_count": 3,
   "id": "entitled-return",
   "metadata": {},
   "outputs": [
    {
     "data": {
      "text/plain": [
       "index                    int64\n",
       "customer_id              int64\n",
       "order_date             float64\n",
       "order_hour             float64\n",
       "customer_order_rank    float64\n",
       "is_failed                int64\n",
       "voucher_amount         float64\n",
       "delivery_fee           float64\n",
       "amount_paid            float64\n",
       "restaurant_id            int64\n",
       "city_id                  int64\n",
       "payment_id               int64\n",
       "platform_id              int64\n",
       "transmission_id          int64\n",
       "action_mask            float64\n",
       "order_hour_cos         float64\n",
       "order_hour_sin         float64\n",
       "dtype: object"
      ]
     },
     "execution_count": 3,
     "metadata": {},
     "output_type": "execute_result"
    }
   ],
   "source": [
    "orders.dtypes"
   ]
  },
  {
   "cell_type": "markdown",
   "id": "small-passion",
   "metadata": {},
   "source": [
    "Let us look into the orders:"
   ]
  },
  {
   "cell_type": "code",
   "execution_count": 4,
   "id": "monthly-steps",
   "metadata": {},
   "outputs": [
    {
     "data": {
      "text/plain": [
       "(9.027,\n",
       " count    786600.000000\n",
       " mean         10.183271\n",
       " std           5.618121\n",
       " min           0.000000\n",
       " 25%           6.648120\n",
       " 50%           9.027000\n",
       " 75%          12.213000\n",
       " max        1131.030000\n",
       " Name: amount_paid, dtype: float64)"
      ]
     },
     "execution_count": 4,
     "metadata": {},
     "output_type": "execute_result"
    }
   ],
   "source": [
    "orders.amount_paid.median(), orders.amount_paid.describe()"
   ]
  },
  {
   "cell_type": "markdown",
   "id": "invalid-violin",
   "metadata": {},
   "source": [
    "There are obviously many outliers, so let us take a look at the realistic orders:"
   ]
  },
  {
   "cell_type": "code",
   "execution_count": 5,
   "id": "canadian-musician",
   "metadata": {},
   "outputs": [
    {
     "data": {
      "text/plain": [
       "(array([ 59035., 402469., 220661.,  68486.,  21594.,   7837.,   3203.,\n",
       "          1406.,    702.,    427.]),\n",
       " array([ 0.     ,  4.99671,  9.99342, 14.99013, 19.98684, 24.98355,\n",
       "        29.98026, 34.97697, 39.97368, 44.97039, 49.9671 ]),\n",
       " <BarContainer object of 10 artists>)"
      ]
     },
     "execution_count": 5,
     "metadata": {},
     "output_type": "execute_result"
    },
    {
     "data": {
      "image/png": "[encoded data removed]",
      "text/plain": [
       "<Figure size 432x288 with 1 Axes>"
      ]
     },
     "metadata": {
      "needs_background": "light"
     },
     "output_type": "display_data"
    }
   ],
   "source": [
    "plt.hist(orders.amount_paid[orders.amount_paid < 50])"
   ]
  },
  {
   "cell_type": "markdown",
   "id": "advance-jungle",
   "metadata": {},
   "source": [
    "What about the order time? We **cannot average the hours** themselves because of [this](https://en.wikipedia.org/wiki/Mean_of_circular_quantities), that's why we've calculated the additional fields `order_hours_cos` and `orders_hours_sin`, see [here](https://github.com/gbordyugov/pndapetzim/blob/main/pndapetzim/data.py#L99):"
   ]
  },
  {
   "cell_type": "code",
   "execution_count": 6,
   "id": "seven-mouse",
   "metadata": {},
   "outputs": [
    {
     "data": {
      "text/plain": [
       "(count    7.866000e+05\n",
       " mean     8.967337e-03\n",
       " std      5.686224e-01\n",
       " min     -1.000000e+00\n",
       " 25%     -5.000000e-01\n",
       " 50%     -1.836970e-16\n",
       " 75%      5.000000e-01\n",
       " max      1.000000e+00\n",
       " Name: order_hour_cos, dtype: float64,\n",
       " count    786600.000000\n",
       " mean         -0.748755\n",
       " std           0.340521\n",
       " min          -1.000000\n",
       " 25%          -0.965926\n",
       " 50%          -0.866025\n",
       " 75%          -0.707107\n",
       " max           1.000000\n",
       " Name: order_hour_sin, dtype: float64)"
      ]
     },
     "execution_count": 6,
     "metadata": {},
     "output_type": "execute_result"
    }
   ],
   "source": [
    "orders.order_hour_cos.describe(), orders.order_hour_sin.describe()"
   ]
  },
  {
   "cell_type": "markdown",
   "id": "continent-reasoning",
   "metadata": {},
   "source": [
    "Let us find out the most busy order time:"
   ]
  },
  {
   "cell_type": "code",
   "execution_count": 7,
   "id": "proof-familiar",
   "metadata": {},
   "outputs": [
    {
     "data": {
      "text/plain": [
       "-11.90851198419776"
      ]
     },
     "execution_count": 7,
     "metadata": {},
     "output_type": "execute_result"
    }
   ],
   "source": [
    "from numpy import arctan2, pi\n",
    "busy_time = arctan2(orders.order_hour_sin.mean(), orders.order_hour_cos.mean())\n",
    "busy_time / pi * 24.0"
   ]
  },
  {
   "cell_type": "markdown",
   "id": "loved-security",
   "metadata": {},
   "source": [
    "Modulo 24 hours, it's quite close to noon, right? Let's double-check the histograms to be 100% sure:"
   ]
  },
  {
   "cell_type": "code",
   "execution_count": 8,
   "id": "french-hanging",
   "metadata": {},
   "outputs": [
    {
     "data": {
      "text/plain": [
       "((array([1.13957e+05, 3.55250e+04, 4.93330e+04, 9.09400e+04, 1.29654e+05,\n",
       "         8.30000e+01, 1.34092e+05, 1.08876e+05, 6.86660e+04, 5.54740e+04]),\n",
       "  array([-1. , -0.8, -0.6, -0.4, -0.2,  0. ,  0.2,  0.4,  0.6,  0.8,  1. ]),\n",
       "  <BarContainer object of 10 artists>),\n",
       " (array([512082., 102509.,  63726.,  44937.,      0.,  33775.,  21487.,\n",
       "           5506.,   1682.,    896.]),\n",
       "  array([-1. , -0.8, -0.6, -0.4, -0.2,  0. ,  0.2,  0.4,  0.6,  0.8,  1. ]),\n",
       "  <BarContainer object of 10 artists>))"
      ]
     },
     "execution_count": 8,
     "metadata": {},
     "output_type": "execute_result"
    },
    {
     "data": {
      "image/png": "[encoded data removed]",
      "text/plain": [
       "<Figure size 432x288 with 1 Axes>"
      ]
     },
     "metadata": {
      "needs_background": "light"
     },
     "output_type": "display_data"
    }
   ],
   "source": [
    "plt.hist(orders.order_hour_cos), plt.hist(orders.order_hour_sin)"
   ]
  },
  {
   "cell_type": "markdown",
   "id": "accredited-attraction",
   "metadata": {},
   "source": [
    "Now, what about the distribution of the normalised order dates?"
   ]
  },
  {
   "cell_type": "code",
   "execution_count": 9,
   "id": "opened-raising",
   "metadata": {},
   "outputs": [
    {
     "data": {
      "text/plain": [
       "(array([3.00000e+00, 3.00000e+00, 1.10000e+01, 7.00000e+00, 1.10000e+01,\n",
       "        1.23970e+04, 1.07399e+05, 1.74774e+05, 2.06908e+05, 2.85087e+05]),\n",
       " array([-1.39452055, -1.15520548, -0.91589041, -0.67657534, -0.43726027,\n",
       "        -0.19794521,  0.04136986,  0.28068493,  0.52      ,  0.75931507,\n",
       "         0.99863014]),\n",
       " <BarContainer object of 10 artists>)"
      ]
     },
     "execution_count": 9,
     "metadata": {},
     "output_type": "execute_result"
    },
    {
     "data": {
      "image/png": "[encoded data removed]",
      "text/plain": [
       "<Figure size 432x288 with 1 Axes>"
      ]
     },
     "metadata": {
      "needs_background": "light"
     },
     "output_type": "display_data"
    }
   ],
   "source": [
    "plt.hist(orders.order_date)"
   ]
  },
  {
   "cell_type": "markdown",
   "id": "environmental-combining",
   "metadata": {},
   "source": [
    "We see that the most of the orders are coming between the center of specified time window (between 2015-03-01 and 2017-02-28)."
   ]
  }
 ],
 "metadata": {
  "kernelspec": {
   "display_name": "Python 3",
   "language": "python",
   "name": "python3"
  },
  "language_info": {
   "codemirror_mode": {
    "name": "ipython",
    "version": 3
   },
   "file_extension": ".py",
   "mimetype": "text/x-python",
   "name": "python",
   "nbconvert_exporter": "python",
   "pygments_lexer": "ipython3",
   "version": "3.7.9"
  }
 },
 "nbformat": 4,
 "nbformat_minor": 5
}
