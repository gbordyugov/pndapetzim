{
 "cells": [
  {
   "cell_type": "code",
   "execution_count": null,
   "id": "raising-current",
   "metadata": {},
   "outputs": [],
   "source": [
    "from pndapetzim.data import read_order_table, LABEL_FILE_NAME, ORDER_FILE_NAME\n",
    "\n",
    "orders = read_order_table('../data/' + ORDER_FILE_NAME)"
   ]
  },
  {
   "cell_type": "code",
   "execution_count": null,
   "id": "sonic-bangkok",
   "metadata": {},
   "outputs": [],
   "source": [
    "orders.head()"
   ]
  },
  {
   "cell_type": "code",
   "execution_count": null,
   "id": "corresponding-ethernet",
   "metadata": {},
   "outputs": [],
   "source": []
  }
 ],
 "metadata": {
  "kernelspec": {
   "display_name": "Python 3",
   "language": "python",
   "name": "python3"
  },
  "language_info": {
   "codemirror_mode": {
    "name": "ipython",
    "version": 3
   },
   "file_extension": ".py",
   "mimetype": "text/x-python",
   "name": "python",
   "nbconvert_exporter": "python",
   "pygments_lexer": "ipython3",
   "version": "3.7.9"
  }
 },
 "nbformat": 4,
 "nbformat_minor": 5
}
