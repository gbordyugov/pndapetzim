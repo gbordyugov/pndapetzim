{
 "cells": [
  {
   "cell_type": "code",
   "execution_count": 1,
   "id": "complicated-cheat",
   "metadata": {},
   "outputs": [],
   "source": [
    "from pndapetzim.data import get_labeled_data\n",
    "from pndapetzim.data import ORDER_FILE_NAME\n",
    "from pndapetzim.data import LABEL_FILE_NAME\n",
    "\n",
    "df = get_labeled_data(\n",
    "    '../data/' + ORDER_FILE_NAME,\n",
    "    '../data/' + LABEL_FILE_NAME,\n",
    ")"
   ]
  },
  {
   "cell_type": "code",
   "execution_count": null,
   "id": "exotic-channels",
   "metadata": {},
   "outputs": [],
   "source": [
    "len(set(df.restaurant_id))"
   ]
  },
  {
   "cell_type": "code",
   "execution_count": null,
   "id": "fitting-philip",
   "metadata": {},
   "outputs": [],
   "source": []
  }
 ],
 "metadata": {
  "kernelspec": {
   "display_name": "Python 3",
   "language": "python",
   "name": "python3"
  },
  "language_info": {
   "codemirror_mode": {
    "name": "ipython",
    "version": 3
   },
   "file_extension": ".py",
   "mimetype": "text/x-python",
   "name": "python",
   "nbconvert_exporter": "python",
   "pygments_lexer": "ipython3",
   "version": "3.7.9"
  }
 },
 "nbformat": 4,
 "nbformat_minor": 5
}
