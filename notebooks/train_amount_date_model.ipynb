{
 "cells": [
  {
   "cell_type": "code",
   "execution_count": null,
   "id": "suspended-calendar",
   "metadata": {},
   "outputs": [],
   "source": [
    "from pndapetzim.data import load_dataset\n",
    "from pndapetzim.data import ORDER_FILE_NAME\n",
    "from pndapetzim.data import LABEL_FILE_NAME\n",
    "\n",
    "seq_len = 50\n",
    "returning_weight = 3.0\n",
    "\n",
    "ds = load_dataset(\n",
    "    '../data/' + ORDER_FILE_NAME,\n",
    "    '../data/' + LABEL_FILE_NAME,\n",
    "    seq_len,\n",
    "    returning_weight,\n",
    ")\n",
    "ds = ds.cache()\n"
   ]
  },
  {
   "cell_type": "code",
   "execution_count": null,
   "id": "cubic-proposition",
   "metadata": {},
   "outputs": [],
   "source": [
    "from tensorflow.keras.losses import BinaryCrossentropy\n",
    "from tensorflow.keras.metrics import AUC\n",
    "from tensorflow.keras.metrics import Recall\n",
    "from tensorflow.keras.optimizers import Adam\n",
    "\n",
    "from pndapetzim.models import build_amount_date_model\n",
    "\n",
    "loss = BinaryCrossentropy()\n",
    "optimiser = Adam()\n",
    "\n",
    "model = build_amount_date_model(seq_len, 10)\n",
    "metrics = ['accuracy', Recall(), AUC()]\n",
    "model.compile(loss=loss, optimizer=optimiser, metrics=metrics)"
   ]
  },
  {
   "cell_type": "code",
   "execution_count": null,
   "id": "second-brother",
   "metadata": {},
   "outputs": [],
   "source": [
    "batch_size = 128\n",
    "model.fit(ds.batch(batch_size), epochs=5)"
   ]
  },
  {
   "cell_type": "code",
   "execution_count": null,
   "id": "cathedral-generation",
   "metadata": {},
   "outputs": [],
   "source": []
  }
 ],
 "metadata": {
  "kernelspec": {
   "display_name": "Python 3",
   "language": "python",
   "name": "python3"
  },
  "language_info": {
   "codemirror_mode": {
    "name": "ipython",
    "version": 3
   },
   "file_extension": ".py",
   "mimetype": "text/x-python",
   "name": "python",
   "nbconvert_exporter": "python",
   "pygments_lexer": "ipython3",
   "version": "3.7.9"
  }
 },
 "nbformat": 4,
 "nbformat_minor": 5
}
